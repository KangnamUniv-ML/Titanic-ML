{
 "cells": [
  {
   "cell_type": "markdown",
   "metadata": {
    "colab_type": "text",
    "id": "view-in-github"
   },
   "source": [
    "<a href=\"https://colab.research.google.com/github/KangnamUniv-ML/Titanic-ML/blob/main/Titanic.ipynb\" target=\"_parent\"><img src=\"https://colab.research.google.com/assets/colab-badge.svg\" alt=\"Open In Colab\"/></a>"
   ]
  },
  {
   "cell_type": "code",
   "execution_count": 1,
   "metadata": {
    "colab": {
     "base_uri": "https://localhost:8080/"
    },
    "id": "Hs-AxJGljmrd",
    "outputId": "be887268-45d4-41cd-cdf6-53830bdc6d35"
   },
   "outputs": [
    {
     "name": "stdout",
     "output_type": "stream",
     "text": [
      "Requirement already satisfied: kaggle in /usr/local/lib/python3.7/dist-packages (1.5.12)\n",
      "Requirement already satisfied: requests in /usr/local/lib/python3.7/dist-packages (from kaggle) (2.23.0)\n",
      "Requirement already satisfied: python-dateutil in /usr/local/lib/python3.7/dist-packages (from kaggle) (2.8.2)\n",
      "Requirement already satisfied: python-slugify in /usr/local/lib/python3.7/dist-packages (from kaggle) (6.1.2)\n",
      "Requirement already satisfied: certifi in /usr/local/lib/python3.7/dist-packages (from kaggle) (2021.10.8)\n",
      "Requirement already satisfied: six>=1.10 in /usr/local/lib/python3.7/dist-packages (from kaggle) (1.15.0)\n",
      "Requirement already satisfied: urllib3 in /usr/local/lib/python3.7/dist-packages (from kaggle) (1.24.3)\n",
      "Requirement already satisfied: tqdm in /usr/local/lib/python3.7/dist-packages (from kaggle) (4.64.0)\n",
      "Requirement already satisfied: text-unidecode>=1.3 in /usr/local/lib/python3.7/dist-packages (from python-slugify->kaggle) (1.3)\n",
      "Requirement already satisfied: idna<3,>=2.5 in /usr/local/lib/python3.7/dist-packages (from requests->kaggle) (2.10)\n",
      "Requirement already satisfied: chardet<4,>=3.0.2 in /usr/local/lib/python3.7/dist-packages (from requests->kaggle) (3.0.4)\n"
     ]
    }
   ],
   "source": [
    "#!pip3 install kaggle"
   ]
  },
  {
   "cell_type": "markdown",
   "metadata": {
    "id": "RVtAYAR5mnVa"
   },
   "source": [
    "## 참고 레퍼런스\n",
    "\n",
    "- [kaggle API 사용법](https://velog.io/@skyepodium/Kaggle-API-%EC%82%AC%EC%9A%A9%EB%B2%95)"
   ]
  },
  {
   "cell_type": "code",
   "execution_count": 1,
   "metadata": {
    "colab": {
     "base_uri": "https://localhost:8080/"
    },
    "id": "SSE2ZOVGmfA4",
    "outputId": "5dd9d4e8-8264-424d-b5e1-8f7d111b06cb"
   },
   "outputs": [
    {
     "name": "stdout",
     "output_type": "stream",
     "text": [
      "Downloading titanic.zip to /home/jovyan/work\r\n",
      "\r",
      "  0%|                                               | 0.00/34.1k [00:00<?, ?B/s]\r\n",
      "\r",
      "100%|██████████████████████████████████████| 34.1k/34.1k [00:00<00:00, 4.96MB/s]\r\n"
     ]
    }
   ],
   "source": [
    "import os\n",
    "\n",
    "# 닉네임, 토큰 설정\n",
    "# os.environ[\"KAGGLE_USERNAME\"] = ''\n",
    "# os.environ[\"KAGGLE_KEY\"] = \"\"\n",
    "\n",
    "# 데이터 받기, colab에서 리눅스 명령어를 사용할때는 앞에 !가 붙습니다.\n",
    "!kaggle competitions download -c titanic"
   ]
  },
  {
   "cell_type": "code",
   "execution_count": 2,
   "metadata": {
    "colab": {
     "base_uri": "https://localhost:8080/"
    },
    "id": "aSXQrCSoosWb",
    "outputId": "e1ff2370-9f06-42a3-e663-077b1ad22a29"
   },
   "outputs": [
    {
     "name": "stdout",
     "output_type": "stream",
     "text": [
      "Archive:  titanic.zip\n",
      "  inflating: gender_submission.csv   \n",
      "  inflating: test.csv                \n",
      "  inflating: train.csv               \n",
      "total 108\n",
      "drwxr-xr-x 7 jovyan users   224 May 18 10:41 .\n",
      "drwsrwsr-x 1 jovyan users  4096 May 18 10:41 ..\n",
      "-rw-r--r-- 1 jovyan users  3258 Dec 11  2019 gender_submission.csv\n",
      "drwxr-xr-x 2 jovyan users    64 May 18 10:41 .ipynb_checkpoints\n",
      "-rw-r--r-- 1 jovyan users 28629 Dec 11  2019 test.csv\n",
      "-rw-r--r-- 1 jovyan users  6001 May 18 10:17 Titanic.ipynb\n",
      "-rw-r--r-- 1 jovyan users 61194 Dec 11  2019 train.csv\n"
     ]
    }
   ],
   "source": [
    "!unzip -o titanic.zip\n",
    "!rm titanic.zip\n",
    "!ls -al"
   ]
  },
  {
   "cell_type": "code",
   "execution_count": 3,
   "metadata": {
    "colab": {
     "base_uri": "https://localhost:8080/"
    },
    "id": "lWx0ZEdno0ly",
    "outputId": "b3db4c48-6dd7-4f84-c900-ec7843643444"
   },
   "outputs": [
    {
     "name": "stdout",
     "output_type": "stream",
     "text": [
      "100%|████████████████████████████████████████| 3.18k/3.18k [00:03<00:00, 822B/s]\n",
      "Successfully submitted to Titanic - Machine Learning from Disaster"
     ]
    }
   ],
   "source": [
    "!kaggle competitions submit -c titanic -f gender_submission.csv -m \"Subtit with Kaggle API\""
   ]
  },
  {
   "cell_type": "code",
   "execution_count": 14,
   "metadata": {},
   "outputs": [
    {
     "name": "stdout",
     "output_type": "stream",
     "text": [
      "absl-py==0.15.0\n",
      "aiohttp==3.8.1\n",
      "aiosignal==1.2.0\n",
      "alembic==1.7.7\n",
      "altair==4.2.0\n",
      "anyio==3.5.0\n",
      "argon2-cffi==21.3.0\n",
      "argon2-cffi-bindings==21.2.0\n",
      "asttokens==2.0.5\n",
      "astunparse==1.6.3\n",
      "async-generator==1.10\n",
      "async-timeout==4.0.2\n",
      "attrs==21.4.0\n",
      "Babel==2.10.1\n",
      "backcall==0.2.0\n",
      "backports.functools-lru-cache==1.6.4\n",
      "beautifulsoup4==4.11.1\n",
      "bleach==5.0.0\n",
      "blinker==1.4\n",
      "bokeh==2.3.3\n",
      "Bottleneck==1.3.4\n",
      "brotlipy==0.7.0\n",
      "cached-property==1.5.2\n",
      "cachetools==4.2.4\n",
      "certifi==2021.10.8\n",
      "certipy==0.1.3\n",
      "cffi==1.15.0\n",
      "charset-normalizer==2.0.12\n",
      "click==8.1.3\n",
      "cloudpickle==2.0.0\n",
      "colorama==0.4.4\n",
      "conda==4.12.0\n",
      "conda-package-handling==1.8.1\n",
      "cryptography==36.0.2\n",
      "cycler==0.11.0\n",
      "Cython==0.29.28\n",
      "cytoolz==0.11.2\n",
      "dask==2022.2.1\n",
      "debugpy==1.6.0\n",
      "decorator==5.1.1\n",
      "defusedxml==0.7.1\n",
      "dill==0.3.4\n",
      "distributed==2022.2.1\n",
      "entrypoints==0.4\n",
      "executing==0.8.3\n",
      "fastjsonschema==2.15.3\n",
      "flatbuffers==1.12\n",
      "flit_core==3.7.1\n",
      "fonttools==4.33.3\n",
      "frozenlist==1.3.0\n",
      "fsspec==2022.3.0\n",
      "gast==0.4.0\n",
      "gmpy2==2.1.2\n",
      "google-auth==1.35.0\n",
      "google-auth-oauthlib==0.4.6\n",
      "google-pasta==0.2.0\n",
      "greenlet==1.1.2\n",
      "grpcio==1.41.1\n",
      "h5py==3.1.0\n",
      "HeapDict==1.0.1\n",
      "idna==3.3\n",
      "imagecodecs==2022.2.22\n",
      "imageio==2.19.1\n",
      "importlib-metadata==4.11.3\n",
      "importlib-resources==5.7.1\n",
      "ipykernel==6.13.0\n",
      "ipympl==0.9.1\n",
      "ipython==8.3.0\n",
      "ipython-genutils==0.2.0\n",
      "ipywidgets==7.7.0\n",
      "jedi==0.18.1\n",
      "Jinja2==3.1.2\n",
      "joblib==1.1.0\n",
      "json5==0.9.5\n",
      "jsonschema==4.5.1\n",
      "jupyter-client==7.3.1\n",
      "jupyter-core==4.9.2\n",
      "jupyter-server==1.17.0\n",
      "jupyter-telemetry==0.1.0\n",
      "jupyterhub==2.3.0\n",
      "jupyterlab==3.4.0\n",
      "jupyterlab-pygments==0.2.2\n",
      "jupyterlab-server==2.13.0\n",
      "jupyterlab-widgets==1.1.0\n",
      "kaggle==1.5.12\n",
      "keras==2.6.0\n",
      "Keras-Preprocessing==1.1.2\n",
      "kiwisolver==1.4.2\n",
      "libmambapy==0.23.1\n",
      "llvmlite==0.38.0\n",
      "locket==1.0.0\n",
      "lz4==4.0.0\n",
      "Mako==1.2.0\n",
      "mamba==0.23.1\n",
      "Markdown==3.3.7\n",
      "MarkupSafe==2.1.1\n",
      "matplotlib==3.5.2\n",
      "matplotlib-inline==0.1.3\n",
      "mistune==0.8.4\n",
      "mock==4.0.3\n",
      "mpmath==1.2.1\n",
      "msgpack==1.0.3\n",
      "multidict==6.0.2\n",
      "munkres==1.1.4\n",
      "nbclassic==0.3.7\n",
      "nbclient==0.6.3\n",
      "nbconvert==6.5.0\n",
      "nbformat==5.4.0\n",
      "nest-asyncio==1.5.5\n",
      "networkx==2.8\n",
      "notebook==6.4.11\n",
      "notebook-shim==0.1.0\n",
      "numba==0.55.1\n",
      "numexpr==2.8.0\n",
      "numpy==1.19.5\n",
      "oauthlib==3.2.0\n",
      "opt-einsum==3.3.0\n",
      "packaging==21.3\n",
      "pamela==1.0.0\n",
      "pandas==1.4.2\n",
      "pandocfilters==1.5.0\n",
      "parso==0.8.3\n",
      "partd==1.2.0\n",
      "patsy==0.5.2\n",
      "pexpect==4.8.0\n",
      "pickleshare==0.7.5\n",
      "Pillow==9.1.0\n",
      "pip==22.1\n",
      "prometheus-client==0.14.1\n",
      "prompt-toolkit==3.0.29\n",
      "protobuf==3.18.1\n",
      "psutil==5.9.0\n",
      "ptyprocess==0.7.0\n",
      "pure-eval==0.2.2\n",
      "pyasn1==0.4.8\n",
      "pyasn1-modules==0.2.7\n",
      "pycosat==0.6.3\n",
      "pycparser==2.21\n",
      "pycurl==7.45.1\n",
      "Pygments==2.12.0\n",
      "PyJWT==2.3.0\n",
      "pyOpenSSL==22.0.0\n",
      "pyparsing==3.0.9\n",
      "pyrsistent==0.18.1\n",
      "PySocks==1.7.1\n",
      "python-dateutil==2.8.2\n",
      "python-json-logger==2.0.1\n",
      "python-slugify==6.1.2\n",
      "pytz==2022.1\n",
      "pyu2f==0.1.5\n",
      "PyWavelets==1.3.0\n",
      "PyYAML==6.0\n",
      "pyzmq==22.3.0\n",
      "requests==2.27.1\n",
      "requests-oauthlib==1.3.1\n",
      "rsa==4.8\n",
      "ruamel.yaml==0.17.21\n",
      "ruamel.yaml.clib==0.2.6\n",
      "ruamel-yaml-conda==0.15.80\n",
      "scikit-image==0.19.2\n",
      "scikit-learn==1.1.0\n",
      "scipy==1.8.0\n",
      "seaborn==0.11.2\n",
      "Send2Trash==1.8.0\n",
      "setuptools==59.8.0\n",
      "six==1.15.0\n",
      "sniffio==1.2.0\n",
      "sortedcontainers==2.4.0\n",
      "soupsieve==2.3.1\n",
      "SQLAlchemy==1.4.36\n",
      "stack-data==0.2.0\n",
      "statsmodels==0.13.2\n",
      "sympy==1.10.1\n",
      "tables==3.6.1\n",
      "tblib==1.7.0\n",
      "tensorboard==2.6.0\n",
      "tensorboard-data-server==0.6.0\n",
      "tensorboard-plugin-wit==1.8.1\n",
      "tensorflow==2.6.2\n",
      "tensorflow-estimator==2.6.0\n",
      "termcolor==1.1.0\n",
      "terminado==0.13.3\n",
      "text-unidecode==1.3\n",
      "threadpoolctl==3.1.0\n",
      "tifffile==2022.5.4\n",
      "tinycss2==1.1.1\n",
      "toolz==0.11.2\n",
      "tornado==6.1\n",
      "tqdm==4.64.0\n",
      "traitlets==5.2.0\n",
      "typing-extensions==3.7.4.3\n",
      "unicodedata2==14.0.0\n",
      "urllib3==1.26.9\n",
      "wcwidth==0.2.5\n",
      "webencodings==0.5.1\n",
      "websocket-client==1.3.2\n",
      "Werkzeug==2.1.2\n",
      "wheel==0.37.1\n",
      "widgetsnbextension==3.6.0\n",
      "wrapt==1.12.1\n",
      "xlrd==2.0.1\n",
      "yarl==1.7.2\n",
      "zict==2.2.0\n",
      "zipp==3.8.0\n"
     ]
    }
   ],
   "source": [
    "#!pip3 list --format=freeze"
   ]
  },
  {
   "cell_type": "code",
   "execution_count": null,
   "metadata": {},
   "outputs": [],
   "source": []
  }
 ],
 "metadata": {
  "colab": {
   "authorship_tag": "ABX9TyNkIO/mt2Dtj195YcrJ5BXI",
   "collapsed_sections": [],
   "include_colab_link": true,
   "name": "Titanic.ipynb",
   "provenance": []
  },
  "kernelspec": {
   "display_name": "Python 3 (ipykernel)",
   "language": "python",
   "name": "python3"
  },
  "language_info": {
   "codemirror_mode": {
    "name": "ipython",
    "version": 3
   },
   "file_extension": ".py",
   "mimetype": "text/x-python",
   "name": "python",
   "nbconvert_exporter": "python",
   "pygments_lexer": "ipython3",
   "version": "3.9.12"
  }
 },
 "nbformat": 4,
 "nbformat_minor": 1
}
