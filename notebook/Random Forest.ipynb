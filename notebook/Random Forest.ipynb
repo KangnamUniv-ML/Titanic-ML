{
 "cells": [
  {
   "cell_type": "code",
   "execution_count": 1,
   "id": "12b54632",
   "metadata": {},
   "outputs": [
    {
     "name": "stdout",
     "output_type": "stream",
     "text": [
      "Downloading titanic.zip to /home/jovyan/work\n",
      "  0%|                                               | 0.00/34.1k [00:00<?, ?B/s]\n",
      "100%|██████████████████████████████████████| 34.1k/34.1k [00:00<00:00, 4.62MB/s]\n"
     ]
    }
   ],
   "source": [
    "import os\n",
    "import math\n",
    "import numpy as np\n",
    "import pandas as pd\n",
    "import matplotlib.pyplot as plt\n",
    "import seaborn as sns\n",
    "import re\n",
    "from sklearn.tree import DecisionTreeClassifier, plot_tree\n",
    "from sklearn.model_selection import train_test_split\n",
    "%matplotlib inline\n",
    "\n",
    "# 닉네임, 토큰 설정\n",
    "os.environ[\"KAGGLE_USERNAME\"] = 'nyahazime'\n",
    "os.environ[\"KAGGLE_KEY\"] = \"71bc08d6d354a8274b1dc382ca5afb0c\"\n",
    "\n",
    "# 데이터 받기, colab에서 리눅스 명령어를 사용할때는 앞에 !가 붙습니다.\n",
    "!kaggle competitions download -c titanic"
   ]
  },
  {
   "cell_type": "code",
   "execution_count": 2,
   "id": "a00047f7",
   "metadata": {},
   "outputs": [
    {
     "name": "stdout",
     "output_type": "stream",
     "text": [
      "Archive:  titanic.zip\n",
      "  inflating: gender_submission.csv   \n",
      "  inflating: test.csv                \n",
      "  inflating: train.csv               \n",
      "total 3664\n",
      "drwxr-xr-x 12 jovyan users     384 Jun  6 14:12  .\n",
      "drwsrwsr-x  1 jovyan users    4096 Jun  4 18:20  ..\n",
      "-rw-r--r--  1 jovyan users   36025 Jun  5 06:04 'Accuracy 100%.ipynb'\n",
      "-rw-r--r--  1 jovyan users    3258 Dec 11  2019  gender_submission.csv\n",
      "drwxr-xr-x  6 jovyan users     192 Jun  5 06:07  .ipynb_checkpoints\n",
      "-rw-r--r--  1 jovyan users  344421 Jun  6 14:11 'Random Forest.ipynb'\n",
      "-rw-r--r--  1 jovyan users    1523 Jun  5 06:04  result.csv\n",
      "-rw-r--r--  1 jovyan users    2839 Jun  6 14:10  submission.csv\n",
      "-rw-r--r--  1 jovyan users   28629 Dec 11  2019  test.csv\n",
      "-rw-r--r--  1 jovyan users 1275563 May 21 07:18  Titanic.ipynb\n",
      "-rw-r--r--  1 jovyan users 1976319 Jun  6 12:05 'Titanic Preprocessing and Decision Tree.ipynb'\n",
      "-rw-r--r--  1 jovyan users   61194 Dec 11  2019  train.csv\n"
     ]
    }
   ],
   "source": [
    "!unzip -o titanic.zip\n",
    "!rm titanic.zip\n",
    "!ls -al"
   ]
  },
  {
   "cell_type": "code",
   "execution_count": 3,
   "id": "95f48f3c",
   "metadata": {},
   "outputs": [
    {
     "data": {
      "text/html": [
       "<div>\n",
       "<style scoped>\n",
       "    .dataframe tbody tr th:only-of-type {\n",
       "        vertical-align: middle;\n",
       "    }\n",
       "\n",
       "    .dataframe tbody tr th {\n",
       "        vertical-align: top;\n",
       "    }\n",
       "\n",
       "    .dataframe thead th {\n",
       "        text-align: right;\n",
       "    }\n",
       "</style>\n",
       "<table border=\"1\" class=\"dataframe\">\n",
       "  <thead>\n",
       "    <tr style=\"text-align: right;\">\n",
       "      <th></th>\n",
       "      <th>PassengerId</th>\n",
       "      <th>Survived</th>\n",
       "      <th>Pclass</th>\n",
       "      <th>Name</th>\n",
       "      <th>Sex</th>\n",
       "      <th>Age</th>\n",
       "      <th>SibSp</th>\n",
       "      <th>Parch</th>\n",
       "      <th>Ticket</th>\n",
       "      <th>Fare</th>\n",
       "      <th>Cabin</th>\n",
       "      <th>Embarked</th>\n",
       "    </tr>\n",
       "  </thead>\n",
       "  <tbody>\n",
       "    <tr>\n",
       "      <th>0</th>\n",
       "      <td>1</td>\n",
       "      <td>0</td>\n",
       "      <td>3</td>\n",
       "      <td>Braund, Mr. Owen Harris</td>\n",
       "      <td>male</td>\n",
       "      <td>22.0</td>\n",
       "      <td>1</td>\n",
       "      <td>0</td>\n",
       "      <td>A/5 21171</td>\n",
       "      <td>7.2500</td>\n",
       "      <td>NaN</td>\n",
       "      <td>S</td>\n",
       "    </tr>\n",
       "    <tr>\n",
       "      <th>1</th>\n",
       "      <td>2</td>\n",
       "      <td>1</td>\n",
       "      <td>1</td>\n",
       "      <td>Cumings, Mrs. John Bradley (Florence Briggs Th...</td>\n",
       "      <td>female</td>\n",
       "      <td>38.0</td>\n",
       "      <td>1</td>\n",
       "      <td>0</td>\n",
       "      <td>PC 17599</td>\n",
       "      <td>71.2833</td>\n",
       "      <td>C85</td>\n",
       "      <td>C</td>\n",
       "    </tr>\n",
       "    <tr>\n",
       "      <th>2</th>\n",
       "      <td>3</td>\n",
       "      <td>1</td>\n",
       "      <td>3</td>\n",
       "      <td>Heikkinen, Miss. Laina</td>\n",
       "      <td>female</td>\n",
       "      <td>26.0</td>\n",
       "      <td>0</td>\n",
       "      <td>0</td>\n",
       "      <td>STON/O2. 3101282</td>\n",
       "      <td>7.9250</td>\n",
       "      <td>NaN</td>\n",
       "      <td>S</td>\n",
       "    </tr>\n",
       "    <tr>\n",
       "      <th>3</th>\n",
       "      <td>4</td>\n",
       "      <td>1</td>\n",
       "      <td>1</td>\n",
       "      <td>Futrelle, Mrs. Jacques Heath (Lily May Peel)</td>\n",
       "      <td>female</td>\n",
       "      <td>35.0</td>\n",
       "      <td>1</td>\n",
       "      <td>0</td>\n",
       "      <td>113803</td>\n",
       "      <td>53.1000</td>\n",
       "      <td>C123</td>\n",
       "      <td>S</td>\n",
       "    </tr>\n",
       "    <tr>\n",
       "      <th>4</th>\n",
       "      <td>5</td>\n",
       "      <td>0</td>\n",
       "      <td>3</td>\n",
       "      <td>Allen, Mr. William Henry</td>\n",
       "      <td>male</td>\n",
       "      <td>35.0</td>\n",
       "      <td>0</td>\n",
       "      <td>0</td>\n",
       "      <td>373450</td>\n",
       "      <td>8.0500</td>\n",
       "      <td>NaN</td>\n",
       "      <td>S</td>\n",
       "    </tr>\n",
       "  </tbody>\n",
       "</table>\n",
       "</div>"
      ],
      "text/plain": [
       "   PassengerId  Survived  Pclass  \\\n",
       "0            1         0       3   \n",
       "1            2         1       1   \n",
       "2            3         1       3   \n",
       "3            4         1       1   \n",
       "4            5         0       3   \n",
       "\n",
       "                                                Name     Sex   Age  SibSp  \\\n",
       "0                            Braund, Mr. Owen Harris    male  22.0      1   \n",
       "1  Cumings, Mrs. John Bradley (Florence Briggs Th...  female  38.0      1   \n",
       "2                             Heikkinen, Miss. Laina  female  26.0      0   \n",
       "3       Futrelle, Mrs. Jacques Heath (Lily May Peel)  female  35.0      1   \n",
       "4                           Allen, Mr. William Henry    male  35.0      0   \n",
       "\n",
       "   Parch            Ticket     Fare Cabin Embarked  \n",
       "0      0         A/5 21171   7.2500   NaN        S  \n",
       "1      0          PC 17599  71.2833   C85        C  \n",
       "2      0  STON/O2. 3101282   7.9250   NaN        S  \n",
       "3      0            113803  53.1000  C123        S  \n",
       "4      0            373450   8.0500   NaN        S  "
      ]
     },
     "execution_count": 3,
     "metadata": {},
     "output_type": "execute_result"
    }
   ],
   "source": [
    "df = pd.read_csv('./train.csv')\n",
    "df.head()"
   ]
  },
  {
   "cell_type": "code",
   "execution_count": 4,
   "id": "77a1747f",
   "metadata": {},
   "outputs": [],
   "source": [
    "df.loc[df['Age'].isnull(), 'Age'] = math.floor(df['Age'].mean())"
   ]
  },
  {
   "cell_type": "code",
   "execution_count": 5,
   "id": "d1361a40",
   "metadata": {},
   "outputs": [
    {
     "data": {
      "image/png": "[encoded data removed]",
      "text/plain": [
       "<Figure size 915.875x216 with 1 Axes>"
      ]
     },
     "metadata": {
      "needs_background": "light"
     },
     "output_type": "display_data"
    }
   ],
   "source": [
    "facet = sns.FacetGrid(df, hue=\"Survived\", aspect=4)\n",
    "facet.map(sns.kdeplot, 'Age', shade=True)\n",
    "facet.set(xlim=(0, df['Age'].max()))\n",
    "facet.add_legend()\n",
    "sns.axes_style(\"darkgrid\")\n",
    "\n",
    "plt.xlim(0,10)\n",
    "plt.show()"
   ]
  },
  {
   "cell_type": "code",
   "execution_count": 6,
   "id": "42443369",
   "metadata": {},
   "outputs": [
    {
     "data": {
      "image/png": "[encoded data removed]",
      "text/plain": [
       "<Figure size 915.875x216 with 1 Axes>"
      ]
     },
     "metadata": {
      "needs_background": "light"
     },
     "output_type": "display_data"
    }
   ],
   "source": [
    "facet = sns.FacetGrid(df, hue=\"Survived\", aspect=4)\n",
    "facet.map(sns.kdeplot, 'Age', shade=True)\n",
    "facet.set(xlim=(0, df['Age'].max()))\n",
    "facet.add_legend()\n",
    "sns.axes_style(\"darkgrid\")\n",
    "\n",
    "plt.xlim(10,15)\n",
    "plt.show()"
   ]
  },
  {
   "cell_type": "code",
   "execution_count": 7,
   "id": "d768226c",
   "metadata": {},
   "outputs": [
    {
     "data": {
      "image/png": "[encoded data removed]",
      "text/plain": [
       "<Figure size 915.875x216 with 1 Axes>"
      ]
     },
     "metadata": {
      "needs_background": "light"
     },
     "output_type": "display_data"
    }
   ],
   "source": [
    "facet = sns.FacetGrid(df, hue=\"Survived\", aspect=4)\n",
    "facet.map(sns.kdeplot, 'Age', shade=True)\n",
    "facet.set(xlim=(0, df['Age'].max()))\n",
    "facet.add_legend()\n",
    "sns.axes_style(\"darkgrid\")\n",
    "\n",
    "plt.xlim(20,30)\n",
    "plt.show()"
   ]
  },
  {
   "cell_type": "code",
   "execution_count": 8,
   "id": "a96830d3",
   "metadata": {},
   "outputs": [],
   "source": [
    "df.loc[ df['Age'] <= 10, 'Age_clean'] = 0\n",
    "df.loc[(df['Age'] > 10) & (df['Age'] <= 16), 'Age_clean'] = 1\n",
    "df.loc[(df['Age'] > 16) & (df['Age'] <= 20), 'Age_clean'] = 2\n",
    "df.loc[(df['Age'] > 20) & (df['Age'] <= 26), 'Age_clean'] = 3\n",
    "df.loc[(df['Age'] > 26) & (df['Age'] <= 30), 'Age_clean'] = 4\n",
    "df.loc[(df['Age'] > 30) & (df['Age'] <= 36), 'Age_clean'] = 5\n",
    "df.loc[(df['Age'] > 36) & (df['Age'] <= 40), 'Age_clean'] = 6\n",
    "df.loc[(df['Age'] > 40) & (df['Age'] <= 46), 'Age_clean'] = 7\n",
    "df.loc[(df['Age'] > 46) & (df['Age'] <= 50), 'Age_clean'] = 8\n",
    "df.loc[(df['Age'] > 50) & (df['Age'] <= 60), 'Age_clean'] = 9\n",
    "df.loc[ df['Age'] > 60, 'Age_clean'] = 10"
   ]
  },
  {
   "cell_type": "code",
   "execution_count": 9,
   "id": "6329d2fb",
   "metadata": {},
   "outputs": [
    {
     "data": {
      "text/plain": [
       "<AxesSubplot:>"
      ]
     },
     "execution_count": 9,
     "metadata": {},
     "output_type": "execute_result"
    },
    {
     "data": {
      "image/png": "[encoded data removed]",
      "text/plain": [
       "<Figure size 432x288 with 1 Axes>"
      ]
     },
     "metadata": {
      "needs_background": "light"
     },
     "output_type": "display_data"
    }
   ],
   "source": [
    "df[df['Survived'] == 1]['Age_clean'].value_counts().plot(kind='bar', stacked=True)"
   ]
  },
  {
   "cell_type": "code",
   "execution_count": 10,
   "id": "c65e6369",
   "metadata": {},
   "outputs": [
    {
     "data": {
      "text/plain": [
       "<AxesSubplot:>"
      ]
     },
     "execution_count": 10,
     "metadata": {},
     "output_type": "execute_result"
    },
    {
     "data": {
      "image/png": "[encoded data removed]",
      "text/plain": [
       "<Figure size 432x288 with 1 Axes>"
      ]
     },
     "metadata": {
      "needs_background": "light"
     },
     "output_type": "display_data"
    }
   ],
   "source": [
    "df[df['Survived'] == 0]['Age_clean'].value_counts().plot(kind='bar', stacked=True)"
   ]
  },
  {
   "cell_type": "code",
   "execution_count": 11,
   "id": "3746f7bc",
   "metadata": {},
   "outputs": [],
   "source": [
    "df['FareBin'] = pd.qcut(df['Fare'], 5)"
   ]
  },
  {
   "cell_type": "code",
   "execution_count": 12,
   "id": "f77e71bf",
   "metadata": {},
   "outputs": [
    {
     "data": {
      "text/plain": [
       "(7.854, 10.5]        184\n",
       "(21.679, 39.688]     180\n",
       "(-0.001, 7.854]      179\n",
       "(39.688, 512.329]    176\n",
       "(10.5, 21.679]       172\n",
       "Name: FareBin, dtype: int64"
      ]
     },
     "execution_count": 12,
     "metadata": {},
     "output_type": "execute_result"
    }
   ],
   "source": [
    "df['FareBin'].value_counts()"
   ]
  },
  {
   "cell_type": "code",
   "execution_count": 13,
   "id": "f4bf35eb",
   "metadata": {},
   "outputs": [],
   "source": [
    "df['Fare_clean'] = df['FareBin'].astype('category').cat.codes"
   ]
  },
  {
   "cell_type": "code",
   "execution_count": 14,
   "id": "e0f214c7",
   "metadata": {},
   "outputs": [
    {
     "data": {
      "text/plain": [
       "1    184\n",
       "3    180\n",
       "0    179\n",
       "4    176\n",
       "2    172\n",
       "Name: Fare_clean, dtype: int64"
      ]
     },
     "execution_count": 14,
     "metadata": {},
     "output_type": "execute_result"
    }
   ],
   "source": [
    "df['Fare_clean'].value_counts()"
   ]
  },
  {
   "cell_type": "code",
   "execution_count": 15,
   "id": "0972740f",
   "metadata": {},
   "outputs": [],
   "source": [
    "df['Family'] = 1 + df['SibSp'] + df['Parch']"
   ]
  },
  {
   "cell_type": "code",
   "execution_count": 16,
   "id": "4179b370",
   "metadata": {},
   "outputs": [],
   "source": [
    "df.loc[df['Embarked'].isnull(), 'Embarked'] = df['Embarked'].mode()[0]"
   ]
  },
  {
   "cell_type": "code",
   "execution_count": 17,
   "id": "fb969d65",
   "metadata": {},
   "outputs": [],
   "source": [
    "df['Deck'] = df['Cabin'].map(lambda x: re.compile(\"([a-zA-Z]+)\").search('Z' if pd.isna(x) else x).group())"
   ]
  },
  {
   "cell_type": "code",
   "execution_count": 18,
   "id": "e1873df5",
   "metadata": {},
   "outputs": [],
   "source": [
    "df['Fare_remainder_by_10'] = df['Fare'] - (df['Fare'] % 10)\n",
    "df['Age_remainder_by_10'] = df['Age'] - (df['Age'] % 10)"
   ]
  },
  {
   "cell_type": "code",
   "execution_count": 19,
   "id": "caec84f9",
   "metadata": {},
   "outputs": [],
   "source": [
    "def getNameTitle(name):\n",
    "    reCom = re.compile(\"(M(?:is)?s|(?:Mrs?))|M(?:aster)\").search(name)\n",
    "    if reCom is not None:\n",
    "        return reCom.group()\n",
    "    return 'Others'"
   ]
  },
  {
   "cell_type": "code",
   "execution_count": 20,
   "id": "3b16366b",
   "metadata": {},
   "outputs": [],
   "source": [
    "df['Title'] = df['Name'].replace('Mlle', 'Miss')\n",
    "df['Title'] = df['Name'].replace('Ms', 'Miss')\n",
    "df['Title'] = df['Name'].replace('Mme', 'Mrs')"
   ]
  },
  {
   "cell_type": "code",
   "execution_count": 21,
   "id": "9a6b2eb9",
   "metadata": {},
   "outputs": [],
   "source": [
    "df['Name_title'] = df['Title'].map(lambda x: getNameTitle(x))"
   ]
  },
  {
   "cell_type": "code",
   "execution_count": 22,
   "id": "fbb199b8",
   "metadata": {},
   "outputs": [
    {
     "data": {
      "text/plain": [
       "Mr        518\n",
       "Miss      182\n",
       "Mrs       127\n",
       "Master     40\n",
       "Others     23\n",
       "Ms          1\n",
       "Name: Name_title, dtype: int64"
      ]
     },
     "execution_count": 22,
     "metadata": {},
     "output_type": "execute_result"
    }
   ],
   "source": [
    "df['Name_title'].value_counts()"
   ]
  },
  {
   "cell_type": "code",
   "execution_count": 23,
   "id": "4b0a5dca",
   "metadata": {},
   "outputs": [],
   "source": [
    "df['Fare_per_person'] = df['Fare'] / (df['SibSp'] + df['Parch'] + 1)"
   ]
  },
  {
   "cell_type": "code",
   "execution_count": 24,
   "id": "68a84578",
   "metadata": {},
   "outputs": [],
   "source": [
    "df['Fare_per_person_remainder_by_10'] = df['Fare_per_person'] - (df['Fare_per_person'] % 10)"
   ]
  },
  {
   "cell_type": "code",
   "execution_count": 25,
   "id": "cd850ab2",
   "metadata": {},
   "outputs": [],
   "source": [
    "df['is_alone'] = 1\n",
    "df.loc[df['SibSp'] + df['Parch'] > 0, 'is_alone'] = 0"
   ]
  },
  {
   "cell_type": "code",
   "execution_count": 26,
   "id": "56258d24",
   "metadata": {},
   "outputs": [],
   "source": [
    "df['is_pclass_3_from_queenstown'] = 0\n",
    "df.loc[(df['Pclass'] == 3) & (df['Embarked'] == 'Q'), 'is_pclass_3_from_queenstown'] = 1"
   ]
  },
  {
   "cell_type": "code",
   "execution_count": 27,
   "id": "715f1fe9",
   "metadata": {},
   "outputs": [],
   "source": [
    "df['is_pclass_3_from_southampton'] = 0\n",
    "df.loc[(df['Pclass'] == 3) & (df['Embarked'] == 'S'), 'is_pclass_3_from_southampton'] = 1"
   ]
  },
  {
   "cell_type": "code",
   "execution_count": 28,
   "id": "49b261c0",
   "metadata": {},
   "outputs": [],
   "source": [
    "df = df.drop(['Name', 'Ticket', 'Cabin'], axis=1)"
   ]
  },
  {
   "cell_type": "code",
   "execution_count": 29,
   "id": "aef17c92",
   "metadata": {},
   "outputs": [],
   "source": [
    "deckDummies = pd.get_dummies(df['Deck'], prefix='Deck')\n",
    "sexDummies = pd.get_dummies(df['Sex'])\n",
    "embarkedDummies = pd.get_dummies(df['Embarked'])\n",
    "nameTitleDummies = pd.get_dummies(df['Name_title'])"
   ]
  },
  {
   "cell_type": "code",
   "execution_count": 30,
   "id": "7dd04593",
   "metadata": {},
   "outputs": [
    {
     "data": {
      "text/html": [
       "<div>\n",
       "<style scoped>\n",
       "    .dataframe tbody tr th:only-of-type {\n",
       "        vertical-align: middle;\n",
       "    }\n",
       "\n",
       "    .dataframe tbody tr th {\n",
       "        vertical-align: top;\n",
       "    }\n",
       "\n",
       "    .dataframe thead th {\n",
       "        text-align: right;\n",
       "    }\n",
       "</style>\n",
       "<table border=\"1\" class=\"dataframe\">\n",
       "  <thead>\n",
       "    <tr style=\"text-align: right;\">\n",
       "      <th></th>\n",
       "      <th>PassengerId</th>\n",
       "      <th>Survived</th>\n",
       "      <th>Pclass</th>\n",
       "      <th>Age</th>\n",
       "      <th>SibSp</th>\n",
       "      <th>Parch</th>\n",
       "      <th>Fare</th>\n",
       "      <th>Age_clean</th>\n",
       "      <th>FareBin</th>\n",
       "      <th>Fare_clean</th>\n",
       "      <th>...</th>\n",
       "      <th>male</th>\n",
       "      <th>C</th>\n",
       "      <th>Q</th>\n",
       "      <th>S</th>\n",
       "      <th>Master</th>\n",
       "      <th>Miss</th>\n",
       "      <th>Mr</th>\n",
       "      <th>Mrs</th>\n",
       "      <th>Ms</th>\n",
       "      <th>Others</th>\n",
       "    </tr>\n",
       "  </thead>\n",
       "  <tbody>\n",
       "    <tr>\n",
       "      <th>0</th>\n",
       "      <td>1</td>\n",
       "      <td>0</td>\n",
       "      <td>3</td>\n",
       "      <td>22.0</td>\n",
       "      <td>1</td>\n",
       "      <td>0</td>\n",
       "      <td>7.2500</td>\n",
       "      <td>3.0</td>\n",
       "      <td>(-0.001, 7.854]</td>\n",
       "      <td>0</td>\n",
       "      <td>...</td>\n",
       "      <td>1</td>\n",
       "      <td>0</td>\n",
       "      <td>0</td>\n",
       "      <td>1</td>\n",
       "      <td>0</td>\n",
       "      <td>0</td>\n",
       "      <td>1</td>\n",
       "      <td>0</td>\n",
       "      <td>0</td>\n",
       "      <td>0</td>\n",
       "    </tr>\n",
       "    <tr>\n",
       "      <th>1</th>\n",
       "      <td>2</td>\n",
       "      <td>1</td>\n",
       "      <td>1</td>\n",
       "      <td>38.0</td>\n",
       "      <td>1</td>\n",
       "      <td>0</td>\n",
       "      <td>71.2833</td>\n",
       "      <td>6.0</td>\n",
       "      <td>(39.688, 512.329]</td>\n",
       "      <td>4</td>\n",
       "      <td>...</td>\n",
       "      <td>0</td>\n",
       "      <td>1</td>\n",
       "      <td>0</td>\n",
       "      <td>0</td>\n",
       "      <td>0</td>\n",
       "      <td>0</td>\n",
       "      <td>0</td>\n",
       "      <td>1</td>\n",
       "      <td>0</td>\n",
       "      <td>0</td>\n",
       "    </tr>\n",
       "    <tr>\n",
       "      <th>2</th>\n",
       "      <td>3</td>\n",
       "      <td>1</td>\n",
       "      <td>3</td>\n",
       "      <td>26.0</td>\n",
       "      <td>0</td>\n",
       "      <td>0</td>\n",
       "      <td>7.9250</td>\n",
       "      <td>3.0</td>\n",
       "      <td>(7.854, 10.5]</td>\n",
       "      <td>1</td>\n",
       "      <td>...</td>\n",
       "      <td>0</td>\n",
       "      <td>0</td>\n",
       "      <td>0</td>\n",
       "      <td>1</td>\n",
       "      <td>0</td>\n",
       "      <td>1</td>\n",
       "      <td>0</td>\n",
       "      <td>0</td>\n",
       "      <td>0</td>\n",
       "      <td>0</td>\n",
       "    </tr>\n",
       "    <tr>\n",
       "      <th>3</th>\n",
       "      <td>4</td>\n",
       "      <td>1</td>\n",
       "      <td>1</td>\n",
       "      <td>35.0</td>\n",
       "      <td>1</td>\n",
       "      <td>0</td>\n",
       "      <td>53.1000</td>\n",
       "      <td>5.0</td>\n",
       "      <td>(39.688, 512.329]</td>\n",
       "      <td>4</td>\n",
       "      <td>...</td>\n",
       "      <td>0</td>\n",
       "      <td>0</td>\n",
       "      <td>0</td>\n",
       "      <td>1</td>\n",
       "      <td>0</td>\n",
       "      <td>0</td>\n",
       "      <td>0</td>\n",
       "      <td>1</td>\n",
       "      <td>0</td>\n",
       "      <td>0</td>\n",
       "    </tr>\n",
       "    <tr>\n",
       "      <th>4</th>\n",
       "      <td>5</td>\n",
       "      <td>0</td>\n",
       "      <td>3</td>\n",
       "      <td>35.0</td>\n",
       "      <td>0</td>\n",
       "      <td>0</td>\n",
       "      <td>8.0500</td>\n",
       "      <td>5.0</td>\n",
       "      <td>(7.854, 10.5]</td>\n",
       "      <td>1</td>\n",
       "      <td>...</td>\n",
       "      <td>1</td>\n",
       "      <td>0</td>\n",
       "      <td>0</td>\n",
       "      <td>1</td>\n",
       "      <td>0</td>\n",
       "      <td>0</td>\n",
       "      <td>1</td>\n",
       "      <td>0</td>\n",
       "      <td>0</td>\n",
       "      <td>0</td>\n",
       "    </tr>\n",
       "  </tbody>\n",
       "</table>\n",
       "<p>5 rows × 41 columns</p>\n",
       "</div>"
      ],
      "text/plain": [
       "   PassengerId  Survived  Pclass   Age  SibSp  Parch     Fare  Age_clean  \\\n",
       "0            1         0       3  22.0      1      0   7.2500        3.0   \n",
       "1            2         1       1  38.0      1      0  71.2833        6.0   \n",
       "2            3         1       3  26.0      0      0   7.9250        3.0   \n",
       "3            4         1       1  35.0      1      0  53.1000        5.0   \n",
       "4            5         0       3  35.0      0      0   8.0500        5.0   \n",
       "\n",
       "             FareBin  Fare_clean  ...  male  C  Q  S Master Miss  Mr  Mrs  Ms  \\\n",
       "0    (-0.001, 7.854]           0  ...     1  0  0  1      0    0   1    0   0   \n",
       "1  (39.688, 512.329]           4  ...     0  1  0  0      0    0   0    1   0   \n",
       "2      (7.854, 10.5]           1  ...     0  0  0  1      0    1   0    0   0   \n",
       "3  (39.688, 512.329]           4  ...     0  0  0  1      0    0   0    1   0   \n",
       "4      (7.854, 10.5]           1  ...     1  0  0  1      0    0   1    0   0   \n",
       "\n",
       "   Others  \n",
       "0       0  \n",
       "1       0  \n",
       "2       0  \n",
       "3       0  \n",
       "4       0  \n",
       "\n",
       "[5 rows x 41 columns]"
      ]
     },
     "execution_count": 30,
     "metadata": {},
     "output_type": "execute_result"
    }
   ],
   "source": [
    "df = pd.concat([df, deckDummies, sexDummies, embarkedDummies, nameTitleDummies], axis=1)\n",
    "df = df.drop(['Sex', 'Embarked'], axis=1)\n",
    "df.head()"
   ]
  },
  {
   "cell_type": "code",
   "execution_count": 31,
   "id": "02dcbab7",
   "metadata": {},
   "outputs": [
    {
     "data": {
      "text/plain": [
       "Index(['PassengerId', 'Survived', 'Pclass', 'Age', 'SibSp', 'Parch', 'Fare',\n",
       "       'Age_clean', 'FareBin', 'Fare_clean', 'Family', 'Deck',\n",
       "       'Fare_remainder_by_10', 'Age_remainder_by_10', 'Title', 'Name_title',\n",
       "       'Fare_per_person', 'Fare_per_person_remainder_by_10', 'is_alone',\n",
       "       'is_pclass_3_from_queenstown', 'is_pclass_3_from_southampton', 'Deck_A',\n",
       "       'Deck_B', 'Deck_C', 'Deck_D', 'Deck_E', 'Deck_F', 'Deck_G', 'Deck_T',\n",
       "       'Deck_Z', 'female', 'male', 'C', 'Q', 'S', 'Master', 'Miss', 'Mr',\n",
       "       'Mrs', 'Ms', 'Others'],\n",
       "      dtype='object')"
      ]
     },
     "execution_count": 31,
     "metadata": {},
     "output_type": "execute_result"
    }
   ],
   "source": [
    "df.columns"
   ]
  },
  {
   "cell_type": "code",
   "execution_count": 32,
   "id": "49d5d164",
   "metadata": {},
   "outputs": [],
   "source": [
    "cols = ['Pclass', 'Fare',\n",
    "        'Fare_clean', 'Fare_remainder_by_10','Fare_per_person',\n",
    "       'Fare_per_person_remainder_by_10', 'is_alone', \n",
    "       'is_pclass_3_from_southampton', \n",
    "       'Deck_B', 'Deck_C', 'Deck_D', 'Deck_E', \n",
    "       'Deck_Z', 'female', 'male', 'C', 'S', 'Miss', 'Mr',\n",
    "       'Mrs']\n",
    "cols = ['PassengerId',  'Pclass', 'Age', 'SibSp', 'Parch', 'Fare',\n",
    "       'Age_clean', 'Fare_clean', 'Family', \n",
    "       'Fare_remainder_by_10', 'Age_remainder_by_10', \n",
    "       'Fare_per_person', 'Fare_per_person_remainder_by_10', 'is_alone',\n",
    "       'is_pclass_3_from_queenstown', 'is_pclass_3_from_southampton', 'Deck_A',\n",
    "       'Deck_B', 'Deck_C', 'Deck_D', 'Deck_E', 'Deck_F', 'Deck_G', \n",
    "       'Deck_Z', 'female', 'male', 'C', 'Q', 'S', 'Master', 'Miss', 'Mr',\n",
    "       'Mrs', 'Ms', 'Others']\n",
    "\n",
    "cols = [ 'Pclass', 'Age', 'Fare', 'Family',\n",
    "       'Fare_per_person', 'is_pclass_3_from_southampton', 'female',\n",
    "       'male', 'Miss', 'Mr', 'Mrs']\n",
    "\n",
    "# cols = ['Pclass', 'Age', 'Fare','Family', 'Fare_per_person','is_pclass_3_from_southampton', \n",
    "#         'female', 'male', 'Miss', 'Mr', 'Mrs']\n",
    "# cols = ['female', 'male']"
   ]
  },
  {
   "cell_type": "code",
   "execution_count": 33,
   "id": "6339cc3d",
   "metadata": {},
   "outputs": [
    {
     "data": {
      "text/html": [
       "<div>\n",
       "<style scoped>\n",
       "    .dataframe tbody tr th:only-of-type {\n",
       "        vertical-align: middle;\n",
       "    }\n",
       "\n",
       "    .dataframe tbody tr th {\n",
       "        vertical-align: top;\n",
       "    }\n",
       "\n",
       "    .dataframe thead th {\n",
       "        text-align: right;\n",
       "    }\n",
       "</style>\n",
       "<table border=\"1\" class=\"dataframe\">\n",
       "  <thead>\n",
       "    <tr style=\"text-align: right;\">\n",
       "      <th></th>\n",
       "      <th>Pclass</th>\n",
       "      <th>Age</th>\n",
       "      <th>Fare</th>\n",
       "      <th>Family</th>\n",
       "      <th>Fare_per_person</th>\n",
       "      <th>is_pclass_3_from_southampton</th>\n",
       "      <th>female</th>\n",
       "      <th>male</th>\n",
       "      <th>Miss</th>\n",
       "      <th>Mr</th>\n",
       "      <th>Mrs</th>\n",
       "    </tr>\n",
       "  </thead>\n",
       "  <tbody>\n",
       "    <tr>\n",
       "      <th>Pclass</th>\n",
       "      <td>1.000000</td>\n",
       "      <td>-0.334974</td>\n",
       "      <td>-0.549500</td>\n",
       "      <td>0.065997</td>\n",
       "      <td>-0.485079</td>\n",
       "      <td>0.670193</td>\n",
       "      <td>-0.131900</td>\n",
       "      <td>0.131900</td>\n",
       "      <td>-0.000576</td>\n",
       "      <td>0.139188</td>\n",
       "      <td>-0.158279</td>\n",
       "    </tr>\n",
       "    <tr>\n",
       "      <th>Age</th>\n",
       "      <td>-0.334974</td>\n",
       "      <td>1.000000</td>\n",
       "      <td>0.093706</td>\n",
       "      <td>-0.247402</td>\n",
       "      <td>0.142803</td>\n",
       "      <td>-0.204044</td>\n",
       "      <td>-0.082949</td>\n",
       "      <td>0.082949</td>\n",
       "      <td>-0.247796</td>\n",
       "      <td>0.187335</td>\n",
       "      <td>0.169894</td>\n",
       "    </tr>\n",
       "    <tr>\n",
       "      <th>Fare</th>\n",
       "      <td>-0.549500</td>\n",
       "      <td>0.093706</td>\n",
       "      <td>1.000000</td>\n",
       "      <td>0.217138</td>\n",
       "      <td>0.840995</td>\n",
       "      <td>-0.286397</td>\n",
       "      <td>0.182333</td>\n",
       "      <td>-0.182333</td>\n",
       "      <td>0.118271</td>\n",
       "      <td>-0.182702</td>\n",
       "      <td>0.106104</td>\n",
       "    </tr>\n",
       "    <tr>\n",
       "      <th>Family</th>\n",
       "      <td>0.065997</td>\n",
       "      <td>-0.247402</td>\n",
       "      <td>0.217138</td>\n",
       "      <td>1.000000</td>\n",
       "      <td>-0.099173</td>\n",
       "      <td>0.120494</td>\n",
       "      <td>0.200988</td>\n",
       "      <td>-0.200988</td>\n",
       "      <td>0.112838</td>\n",
       "      <td>-0.338006</td>\n",
       "      <td>0.153525</td>\n",
       "    </tr>\n",
       "    <tr>\n",
       "      <th>Fare_per_person</th>\n",
       "      <td>-0.485079</td>\n",
       "      <td>0.142803</td>\n",
       "      <td>0.840995</td>\n",
       "      <td>-0.099173</td>\n",
       "      <td>1.000000</td>\n",
       "      <td>-0.262183</td>\n",
       "      <td>0.115143</td>\n",
       "      <td>-0.115143</td>\n",
       "      <td>0.112059</td>\n",
       "      <td>-0.083972</td>\n",
       "      <td>0.013375</td>\n",
       "    </tr>\n",
       "    <tr>\n",
       "      <th>is_pclass_3_from_southampton</th>\n",
       "      <td>0.670193</td>\n",
       "      <td>-0.204044</td>\n",
       "      <td>-0.286397</td>\n",
       "      <td>0.120494</td>\n",
       "      <td>-0.262183</td>\n",
       "      <td>1.000000</td>\n",
       "      <td>-0.174851</td>\n",
       "      <td>0.174851</td>\n",
       "      <td>-0.080284</td>\n",
       "      <td>0.185016</td>\n",
       "      <td>-0.133345</td>\n",
       "    </tr>\n",
       "    <tr>\n",
       "      <th>female</th>\n",
       "      <td>-0.131900</td>\n",
       "      <td>-0.082949</td>\n",
       "      <td>0.182333</td>\n",
       "      <td>0.200988</td>\n",
       "      <td>0.115143</td>\n",
       "      <td>-0.174851</td>\n",
       "      <td>1.000000</td>\n",
       "      <td>-1.000000</td>\n",
       "      <td>0.686808</td>\n",
       "      <td>-0.869335</td>\n",
       "      <td>0.552686</td>\n",
       "    </tr>\n",
       "    <tr>\n",
       "      <th>male</th>\n",
       "      <td>0.131900</td>\n",
       "      <td>0.082949</td>\n",
       "      <td>-0.182333</td>\n",
       "      <td>-0.200988</td>\n",
       "      <td>-0.115143</td>\n",
       "      <td>0.174851</td>\n",
       "      <td>-1.000000</td>\n",
       "      <td>1.000000</td>\n",
       "      <td>-0.686808</td>\n",
       "      <td>0.869335</td>\n",
       "      <td>-0.552686</td>\n",
       "    </tr>\n",
       "    <tr>\n",
       "      <th>Miss</th>\n",
       "      <td>-0.000576</td>\n",
       "      <td>-0.247796</td>\n",
       "      <td>0.118271</td>\n",
       "      <td>0.112838</td>\n",
       "      <td>0.112059</td>\n",
       "      <td>-0.080284</td>\n",
       "      <td>0.686808</td>\n",
       "      <td>-0.686808</td>\n",
       "      <td>1.000000</td>\n",
       "      <td>-0.597067</td>\n",
       "      <td>-0.206570</td>\n",
       "    </tr>\n",
       "    <tr>\n",
       "      <th>Mr</th>\n",
       "      <td>0.139188</td>\n",
       "      <td>0.187335</td>\n",
       "      <td>-0.182702</td>\n",
       "      <td>-0.338006</td>\n",
       "      <td>-0.083972</td>\n",
       "      <td>0.185016</td>\n",
       "      <td>-0.869335</td>\n",
       "      <td>0.869335</td>\n",
       "      <td>-0.597067</td>\n",
       "      <td>1.000000</td>\n",
       "      <td>-0.480469</td>\n",
       "    </tr>\n",
       "    <tr>\n",
       "      <th>Mrs</th>\n",
       "      <td>-0.158279</td>\n",
       "      <td>0.169894</td>\n",
       "      <td>0.106104</td>\n",
       "      <td>0.153525</td>\n",
       "      <td>0.013375</td>\n",
       "      <td>-0.133345</td>\n",
       "      <td>0.552686</td>\n",
       "      <td>-0.552686</td>\n",
       "      <td>-0.206570</td>\n",
       "      <td>-0.480469</td>\n",
       "      <td>1.000000</td>\n",
       "    </tr>\n",
       "  </tbody>\n",
       "</table>\n",
       "</div>"
      ],
      "text/plain": [
       "                                Pclass       Age      Fare    Family  \\\n",
       "Pclass                        1.000000 -0.334974 -0.549500  0.065997   \n",
       "Age                          -0.334974  1.000000  0.093706 -0.247402   \n",
       "Fare                         -0.549500  0.093706  1.000000  0.217138   \n",
       "Family                        0.065997 -0.247402  0.217138  1.000000   \n",
       "Fare_per_person              -0.485079  0.142803  0.840995 -0.099173   \n",
       "is_pclass_3_from_southampton  0.670193 -0.204044 -0.286397  0.120494   \n",
       "female                       -0.131900 -0.082949  0.182333  0.200988   \n",
       "male                          0.131900  0.082949 -0.182333 -0.200988   \n",
       "Miss                         -0.000576 -0.247796  0.118271  0.112838   \n",
       "Mr                            0.139188  0.187335 -0.182702 -0.338006   \n",
       "Mrs                          -0.158279  0.169894  0.106104  0.153525   \n",
       "\n",
       "                              Fare_per_person  is_pclass_3_from_southampton  \\\n",
       "Pclass                              -0.485079                      0.670193   \n",
       "Age                                  0.142803                     -0.204044   \n",
       "Fare                                 0.840995                     -0.286397   \n",
       "Family                              -0.099173                      0.120494   \n",
       "Fare_per_person                      1.000000                     -0.262183   \n",
       "is_pclass_3_from_southampton        -0.262183                      1.000000   \n",
       "female                               0.115143                     -0.174851   \n",
       "male                                -0.115143                      0.174851   \n",
       "Miss                                 0.112059                     -0.080284   \n",
       "Mr                                  -0.083972                      0.185016   \n",
       "Mrs                                  0.013375                     -0.133345   \n",
       "\n",
       "                                female      male      Miss        Mr       Mrs  \n",
       "Pclass                       -0.131900  0.131900 -0.000576  0.139188 -0.158279  \n",
       "Age                          -0.082949  0.082949 -0.247796  0.187335  0.169894  \n",
       "Fare                          0.182333 -0.182333  0.118271 -0.182702  0.106104  \n",
       "Family                        0.200988 -0.200988  0.112838 -0.338006  0.153525  \n",
       "Fare_per_person               0.115143 -0.115143  0.112059 -0.083972  0.013375  \n",
       "is_pclass_3_from_southampton -0.174851  0.174851 -0.080284  0.185016 -0.133345  \n",
       "female                        1.000000 -1.000000  0.686808 -0.869335  0.552686  \n",
       "male                         -1.000000  1.000000 -0.686808  0.869335 -0.552686  \n",
       "Miss                          0.686808 -0.686808  1.000000 -0.597067 -0.206570  \n",
       "Mr                           -0.869335  0.869335 -0.597067  1.000000 -0.480469  \n",
       "Mrs                           0.552686 -0.552686 -0.206570 -0.480469  1.000000  "
      ]
     },
     "execution_count": 33,
     "metadata": {},
     "output_type": "execute_result"
    }
   ],
   "source": [
    "dfCorr = df[cols].corr()\n",
    "dfCorr"
   ]
  },
  {
   "cell_type": "code",
   "execution_count": 34,
   "id": "02e0cdc6",
   "metadata": {},
   "outputs": [
    {
     "data": {
      "text/plain": [
       "<AxesSubplot:>"
      ]
     },
     "execution_count": 34,
     "metadata": {},
     "output_type": "execute_result"
    },
    {
     "data": {
      "image/png": "[encoded data removed]",
      "text/plain": [
       "<Figure size 3600x1440 with 2 Axes>"
      ]
     },
     "metadata": {},
     "output_type": "display_data"
    }
   ],
   "source": [
    "sns.set(rc = {'figure.figsize':(50,20)})\n",
    "sns.heatmap(dfCorr, annot=True)"
   ]
  },
  {
   "cell_type": "code",
   "execution_count": 35,
   "id": "0a81fc45",
   "metadata": {},
   "outputs": [],
   "source": [
    "from sklearn.model_selection import cross_validate\n",
    "from sklearn.ensemble import RandomForestClassifier\n",
    "from sklearn.model_selection import train_test_split\n",
    "from sklearn.metrics import accuracy_score"
   ]
  },
  {
   "cell_type": "code",
   "execution_count": 36,
   "id": "dea7958e",
   "metadata": {},
   "outputs": [],
   "source": [
    "train_input, test_input, train_target, test_target = train_test_split(df[cols], df['Survived'], test_size=0.2, random_state=42)"
   ]
  },
  {
   "cell_type": "code",
   "execution_count": 37,
   "id": "3f93baae",
   "metadata": {},
   "outputs": [
    {
     "data": {
      "text/html": [
       "<div>\n",
       "<style scoped>\n",
       "    .dataframe tbody tr th:only-of-type {\n",
       "        vertical-align: middle;\n",
       "    }\n",
       "\n",
       "    .dataframe tbody tr th {\n",
       "        vertical-align: top;\n",
       "    }\n",
       "\n",
       "    .dataframe thead th {\n",
       "        text-align: right;\n",
       "    }\n",
       "</style>\n",
       "<table border=\"1\" class=\"dataframe\">\n",
       "  <thead>\n",
       "    <tr style=\"text-align: right;\">\n",
       "      <th></th>\n",
       "      <th>Pclass</th>\n",
       "      <th>Age</th>\n",
       "      <th>Fare</th>\n",
       "      <th>Family</th>\n",
       "      <th>Fare_per_person</th>\n",
       "      <th>is_pclass_3_from_southampton</th>\n",
       "      <th>female</th>\n",
       "      <th>male</th>\n",
       "      <th>Miss</th>\n",
       "      <th>Mr</th>\n",
       "      <th>Mrs</th>\n",
       "    </tr>\n",
       "  </thead>\n",
       "  <tbody>\n",
       "    <tr>\n",
       "      <th>331</th>\n",
       "      <td>1</td>\n",
       "      <td>45.5</td>\n",
       "      <td>28.5000</td>\n",
       "      <td>1</td>\n",
       "      <td>28.500000</td>\n",
       "      <td>0</td>\n",
       "      <td>0</td>\n",
       "      <td>1</td>\n",
       "      <td>0</td>\n",
       "      <td>1</td>\n",
       "      <td>0</td>\n",
       "    </tr>\n",
       "    <tr>\n",
       "      <th>733</th>\n",
       "      <td>2</td>\n",
       "      <td>23.0</td>\n",
       "      <td>13.0000</td>\n",
       "      <td>1</td>\n",
       "      <td>13.000000</td>\n",
       "      <td>0</td>\n",
       "      <td>0</td>\n",
       "      <td>1</td>\n",
       "      <td>0</td>\n",
       "      <td>1</td>\n",
       "      <td>0</td>\n",
       "    </tr>\n",
       "    <tr>\n",
       "      <th>382</th>\n",
       "      <td>3</td>\n",
       "      <td>32.0</td>\n",
       "      <td>7.9250</td>\n",
       "      <td>1</td>\n",
       "      <td>7.925000</td>\n",
       "      <td>1</td>\n",
       "      <td>0</td>\n",
       "      <td>1</td>\n",
       "      <td>0</td>\n",
       "      <td>1</td>\n",
       "      <td>0</td>\n",
       "    </tr>\n",
       "    <tr>\n",
       "      <th>704</th>\n",
       "      <td>3</td>\n",
       "      <td>26.0</td>\n",
       "      <td>7.8542</td>\n",
       "      <td>2</td>\n",
       "      <td>3.927100</td>\n",
       "      <td>1</td>\n",
       "      <td>0</td>\n",
       "      <td>1</td>\n",
       "      <td>0</td>\n",
       "      <td>1</td>\n",
       "      <td>0</td>\n",
       "    </tr>\n",
       "    <tr>\n",
       "      <th>813</th>\n",
       "      <td>3</td>\n",
       "      <td>6.0</td>\n",
       "      <td>31.2750</td>\n",
       "      <td>7</td>\n",
       "      <td>4.467857</td>\n",
       "      <td>1</td>\n",
       "      <td>1</td>\n",
       "      <td>0</td>\n",
       "      <td>1</td>\n",
       "      <td>0</td>\n",
       "      <td>0</td>\n",
       "    </tr>\n",
       "  </tbody>\n",
       "</table>\n",
       "</div>"
      ],
      "text/plain": [
       "     Pclass   Age     Fare  Family  Fare_per_person  \\\n",
       "331       1  45.5  28.5000       1        28.500000   \n",
       "733       2  23.0  13.0000       1        13.000000   \n",
       "382       3  32.0   7.9250       1         7.925000   \n",
       "704       3  26.0   7.8542       2         3.927100   \n",
       "813       3   6.0  31.2750       7         4.467857   \n",
       "\n",
       "     is_pclass_3_from_southampton  female  male  Miss  Mr  Mrs  \n",
       "331                             0       0     1     0   1    0  \n",
       "733                             0       0     1     0   1    0  \n",
       "382                             1       0     1     0   1    0  \n",
       "704                             1       0     1     0   1    0  \n",
       "813                             1       1     0     1   0    0  "
      ]
     },
     "execution_count": 37,
     "metadata": {},
     "output_type": "execute_result"
    }
   ],
   "source": [
    "train_input.head()"
   ]
  },
  {
   "cell_type": "code",
   "execution_count": 38,
   "id": "a5501506",
   "metadata": {},
   "outputs": [
    {
     "name": "stdout",
     "output_type": "stream",
     "text": [
      "0.8757019085499337 0.8174037230375258\n"
     ]
    }
   ],
   "source": [
    "rf = RandomForestClassifier(n_jobs=-1, n_estimators=50, max_depth=8, min_samples_split=20, random_state=42)\n",
    "scores = cross_validate(rf, train_input, train_target, return_train_score=True, n_jobs=-1, cv=5)\n",
    "\n",
    "print(np.mean(scores['train_score']), np.mean(scores['test_score']))"
   ]
  },
  {
   "cell_type": "code",
   "execution_count": 39,
   "id": "ecea60e3",
   "metadata": {},
   "outputs": [
    {
     "data": {
      "text/plain": [
       "{'fit_time': array([0.37534213, 0.41925454, 0.42363238, 0.35658026, 0.45510268]),\n",
       " 'score_time': array([0.03251815, 0.0359273 , 0.0294137 , 0.03982115, 0.02796507]),\n",
       " 'test_score': array([0.81818182, 0.82517483, 0.8028169 , 0.79577465, 0.84507042]),\n",
       " 'train_score': array([0.87697715, 0.87346221, 0.88245614, 0.87192982, 0.87368421])}"
      ]
     },
     "execution_count": 39,
     "metadata": {},
     "output_type": "execute_result"
    }
   ],
   "source": [
    "scores"
   ]
  },
  {
   "cell_type": "code",
   "execution_count": 40,
   "id": "5c1f2ed6",
   "metadata": {},
   "outputs": [
    {
     "name": "stdout",
     "output_type": "stream",
     "text": [
      "[0.05281223 0.08268593 0.09529644 0.05049877 0.10332409 0.08323174\n",
      " 0.15737478 0.14515446 0.01911301 0.19612685 0.01438171]\n"
     ]
    }
   ],
   "source": [
    "rf.fit(train_input, train_target)\n",
    "print(rf.feature_importances_)"
   ]
  },
  {
   "cell_type": "code",
   "execution_count": 41,
   "id": "4ad5b56c",
   "metadata": {},
   "outputs": [
    {
     "data": {
      "text/plain": [
       "array([0.05281223, 0.08268593, 0.09529644, 0.05049877, 0.10332409,\n",
       "       0.08323174, 0.15737478, 0.14515446, 0.01911301, 0.19612685,\n",
       "       0.01438171])"
      ]
     },
     "execution_count": 41,
     "metadata": {},
     "output_type": "execute_result"
    }
   ],
   "source": [
    "rf.feature_importances_"
   ]
  },
  {
   "cell_type": "code",
   "execution_count": 42,
   "id": "4b09669f",
   "metadata": {},
   "outputs": [
    {
     "data": {
      "text/plain": [
       "0.09090909090909091"
      ]
     },
     "execution_count": 42,
     "metadata": {},
     "output_type": "execute_result"
    }
   ],
   "source": [
    "rf.feature_importances_.mean()"
   ]
  },
  {
   "cell_type": "code",
   "execution_count": 43,
   "id": "5dad166b",
   "metadata": {},
   "outputs": [
    {
     "data": {
      "text/plain": [
       "array(['Fare', 'Fare_per_person', 'female', 'male', 'Mr'], dtype='<U28')"
      ]
     },
     "execution_count": 43,
     "metadata": {},
     "output_type": "execute_result"
    }
   ],
   "source": [
    "importancesGreaterThanMean = np.argwhere(rf.feature_importances_ > rf.feature_importances_.mean())\n",
    "importancesGreaterThanMean = np.ravel(importancesGreaterThanMean)\n",
    "importancesGreaterThanMean = np.array(importancesGreaterThanMean, int)\n",
    "importancesGreaterThanMean\n",
    "# cols[[ 0,  1,  2,  5,  8, 11, 15, 24, 25, 30, 31, 32]]\n",
    "np.array(cols)[importancesGreaterThanMean]"
   ]
  },
  {
   "cell_type": "code",
   "execution_count": 44,
   "id": "e7a71213",
   "metadata": {},
   "outputs": [
    {
     "data": {
      "image/png": "[encoded data removed]",
      "text/plain": [
       "<Figure size 3600x1440 with 1 Axes>"
      ]
     },
     "metadata": {},
     "output_type": "display_data"
    }
   ],
   "source": [
    "fig, ax = plt.subplots()\n",
    "forest_importances = pd.Series(rf.feature_importances_, index=cols)\n",
    "forest_importances.plot.bar(yerr=rf.feature_importances_, ax=ax)\n",
    "ax.set_title(\"Feature importances using permutation on full model\")\n",
    "ax.set_ylabel(\"Mean accuracy decrease\")\n",
    "fig.tight_layout()\n",
    "plt.show()"
   ]
  },
  {
   "cell_type": "code",
   "execution_count": 45,
   "id": "b6cdf210",
   "metadata": {},
   "outputs": [
    {
     "data": {
      "text/plain": [
       "0.8156424581005587"
      ]
     },
     "execution_count": 45,
     "metadata": {},
     "output_type": "execute_result"
    }
   ],
   "source": [
    "predicted = rf.predict(test_input)\n",
    "accuracy = accuracy_score(test_target, predicted)\n",
    "\n",
    "accuracy"
   ]
  },
  {
   "cell_type": "code",
   "execution_count": 46,
   "id": "67c98dd0",
   "metadata": {},
   "outputs": [
    {
     "data": {
      "text/html": [
       "<div>\n",
       "<style scoped>\n",
       "    .dataframe tbody tr th:only-of-type {\n",
       "        vertical-align: middle;\n",
       "    }\n",
       "\n",
       "    .dataframe tbody tr th {\n",
       "        vertical-align: top;\n",
       "    }\n",
       "\n",
       "    .dataframe thead th {\n",
       "        text-align: right;\n",
       "    }\n",
       "</style>\n",
       "<table border=\"1\" class=\"dataframe\">\n",
       "  <thead>\n",
       "    <tr style=\"text-align: right;\">\n",
       "      <th></th>\n",
       "      <th>PassengerId</th>\n",
       "      <th>Pclass</th>\n",
       "      <th>Name</th>\n",
       "      <th>Sex</th>\n",
       "      <th>Age</th>\n",
       "      <th>SibSp</th>\n",
       "      <th>Parch</th>\n",
       "      <th>Ticket</th>\n",
       "      <th>Fare</th>\n",
       "      <th>Cabin</th>\n",
       "      <th>Embarked</th>\n",
       "    </tr>\n",
       "  </thead>\n",
       "  <tbody>\n",
       "    <tr>\n",
       "      <th>0</th>\n",
       "      <td>892</td>\n",
       "      <td>3</td>\n",
       "      <td>Kelly, Mr. James</td>\n",
       "      <td>male</td>\n",
       "      <td>34.5</td>\n",
       "      <td>0</td>\n",
       "      <td>0</td>\n",
       "      <td>330911</td>\n",
       "      <td>7.8292</td>\n",
       "      <td>NaN</td>\n",
       "      <td>Q</td>\n",
       "    </tr>\n",
       "    <tr>\n",
       "      <th>1</th>\n",
       "      <td>893</td>\n",
       "      <td>3</td>\n",
       "      <td>Wilkes, Mrs. James (Ellen Needs)</td>\n",
       "      <td>female</td>\n",
       "      <td>47.0</td>\n",
       "      <td>1</td>\n",
       "      <td>0</td>\n",
       "      <td>363272</td>\n",
       "      <td>7.0000</td>\n",
       "      <td>NaN</td>\n",
       "      <td>S</td>\n",
       "    </tr>\n",
       "    <tr>\n",
       "      <th>2</th>\n",
       "      <td>894</td>\n",
       "      <td>2</td>\n",
       "      <td>Myles, Mr. Thomas Francis</td>\n",
       "      <td>male</td>\n",
       "      <td>62.0</td>\n",
       "      <td>0</td>\n",
       "      <td>0</td>\n",
       "      <td>240276</td>\n",
       "      <td>9.6875</td>\n",
       "      <td>NaN</td>\n",
       "      <td>Q</td>\n",
       "    </tr>\n",
       "    <tr>\n",
       "      <th>3</th>\n",
       "      <td>895</td>\n",
       "      <td>3</td>\n",
       "      <td>Wirz, Mr. Albert</td>\n",
       "      <td>male</td>\n",
       "      <td>27.0</td>\n",
       "      <td>0</td>\n",
       "      <td>0</td>\n",
       "      <td>315154</td>\n",
       "      <td>8.6625</td>\n",
       "      <td>NaN</td>\n",
       "      <td>S</td>\n",
       "    </tr>\n",
       "    <tr>\n",
       "      <th>4</th>\n",
       "      <td>896</td>\n",
       "      <td>3</td>\n",
       "      <td>Hirvonen, Mrs. Alexander (Helga E Lindqvist)</td>\n",
       "      <td>female</td>\n",
       "      <td>22.0</td>\n",
       "      <td>1</td>\n",
       "      <td>1</td>\n",
       "      <td>3101298</td>\n",
       "      <td>12.2875</td>\n",
       "      <td>NaN</td>\n",
       "      <td>S</td>\n",
       "    </tr>\n",
       "  </tbody>\n",
       "</table>\n",
       "</div>"
      ],
      "text/plain": [
       "   PassengerId  Pclass                                          Name     Sex  \\\n",
       "0          892       3                              Kelly, Mr. James    male   \n",
       "1          893       3              Wilkes, Mrs. James (Ellen Needs)  female   \n",
       "2          894       2                     Myles, Mr. Thomas Francis    male   \n",
       "3          895       3                              Wirz, Mr. Albert    male   \n",
       "4          896       3  Hirvonen, Mrs. Alexander (Helga E Lindqvist)  female   \n",
       "\n",
       "    Age  SibSp  Parch   Ticket     Fare Cabin Embarked  \n",
       "0  34.5      0      0   330911   7.8292   NaN        Q  \n",
       "1  47.0      1      0   363272   7.0000   NaN        S  \n",
       "2  62.0      0      0   240276   9.6875   NaN        Q  \n",
       "3  27.0      0      0   315154   8.6625   NaN        S  \n",
       "4  22.0      1      1  3101298  12.2875   NaN        S  "
      ]
     },
     "execution_count": 46,
     "metadata": {},
     "output_type": "execute_result"
    }
   ],
   "source": [
    "df_test = pd.read_csv('./test.csv')\n",
    "df_test.head()"
   ]
  },
  {
   "cell_type": "code",
   "execution_count": 47,
   "id": "c587d832",
   "metadata": {},
   "outputs": [],
   "source": [
    "df_test.loc[df_test['Age'].isnull(), 'Age'] = math.floor(df_test['Age'].mean())\n",
    "df_test.loc[df_test['Embarked'].isnull(), 'Embarked'] = df_test['Embarked'].mode()[0]\n",
    "df_test['Deck'] = df_test['Cabin'].map(lambda x: re.compile(\"([a-zA-Z]+)\").search('Z' if pd.isna(x) else x).group())\n",
    "\n",
    "df_test.loc[df_test['Fare'].isnull(), 'Fare'] = math.floor(df_test['Fare'].mean())\n",
    "df_test['Fare_remainder_by_10'] = df_test['Fare'] - (df_test['Fare'] % 10)\n",
    "df_test['Age_remainder_by_10'] = df_test['Age'] - (df_test['Age'] % 10)\n",
    "\n",
    "df_test['FareBin'] = pd.qcut(df_test['Fare'], 5)\n",
    "df_test['Fare_clean'] = df_test['FareBin'].astype('category').cat.codes\n",
    "\n",
    "df_test['Family'] = 1 + df_test['SibSp'] + df_test['Parch']\n",
    "\n",
    "df_test['Title'] = df_test['Name'].replace('Mlle', 'Miss')\n",
    "df_test['Title'] = df_test['Name'].replace('Ms', 'Miss')\n",
    "df_test['Title'] = df_test['Name'].replace('Mme', 'Mrs')\n",
    "df_test['Name_title'] = df_test['Title'].map(lambda x: getNameTitle(x))\n",
    "\n",
    "df_test['Fare_per_person'] = df_test['Fare'] / (df_test['SibSp'] + df_test['Parch'] + 1)\n",
    "df_test['Fare_per_person_remainder_by_10'] = df_test['Fare_per_person'] - (df_test['Fare_per_person'] % 10)\n",
    "df_test['is_alone'] = 1\n",
    "df_test.loc[df_test['SibSp'] + df_test['Parch'] > 0, 'is_alone'] = 0\n",
    "df_test['is_pclass_3_from_queenstown'] = 0\n",
    "df_test.loc[(df_test['Pclass'] == 3) & (df_test['Embarked'] == 'Q'), 'is_pclass_3_from_queenstown'] = 1\n",
    "df_test['is_pclass_3_from_southampton'] = 0\n",
    "df_test.loc[(df_test['Pclass'] == 3) & (df_test['Embarked'] == 'S'), 'is_pclass_3_from_southampton'] = 1\n",
    "df_test = df_test.drop(['Name', 'Ticket', 'Cabin'], axis=1)\n",
    "deckDummies = pd.get_dummies(df_test['Deck'], prefix='Deck')\n",
    "sexDummies = pd.get_dummies(df_test['Sex'])\n",
    "embarkedDummies = pd.get_dummies(df_test['Embarked'])\n",
    "nameTitleDummies = pd.get_dummies(df_test['Name_title'])\n",
    "df_test = pd.concat([df_test, deckDummies, sexDummies, embarkedDummies, nameTitleDummies], axis=1)\n",
    "df_test = df_test.drop(['Sex', 'Embarked'], axis=1)"
   ]
  },
  {
   "cell_type": "code",
   "execution_count": 48,
   "id": "ee4d4055",
   "metadata": {},
   "outputs": [],
   "source": [
    "df_test.loc[ df_test['Age'] <= 10, 'Age_clean'] = 0\n",
    "df_test.loc[(df_test['Age'] > 10) & (df_test['Age'] <= 16), 'Age_clean'] = 1\n",
    "df_test.loc[(df_test['Age'] > 16) & (df_test['Age'] <= 20), 'Age_clean'] = 2\n",
    "df_test.loc[(df_test['Age'] > 20) & (df_test['Age'] <= 26), 'Age_clean'] = 3\n",
    "df_test.loc[(df_test['Age'] > 26) & (df_test['Age'] <= 30), 'Age_clean'] = 4\n",
    "df_test.loc[(df_test['Age'] > 30) & (df_test['Age'] <= 36), 'Age_clean'] = 5\n",
    "df_test.loc[(df_test['Age'] > 36) & (df_test['Age'] <= 40), 'Age_clean'] = 6\n",
    "df_test.loc[(df_test['Age'] > 40) & (df_test['Age'] <= 46), 'Age_clean'] = 7\n",
    "df_test.loc[(df_test['Age'] > 46) & (df_test['Age'] <= 50), 'Age_clean'] = 8\n",
    "df_test.loc[(df_test['Age'] > 50) & (df_test['Age'] <= 60), 'Age_clean'] = 9\n",
    "df_test.loc[ df_test['Age'] > 60, 'Age_clean'] = 10"
   ]
  },
  {
   "cell_type": "code",
   "execution_count": 49,
   "id": "bf4b2c24",
   "metadata": {},
   "outputs": [
    {
     "data": {
      "text/plain": [
       "array([0, 1, 0, 0, 1, 0, 1, 0, 1, 0, 0, 0, 1, 0, 1, 1, 0, 0, 0, 1, 0, 1,\n",
       "       1, 0, 1, 0, 1, 0, 0, 0, 0, 0, 1, 0, 0, 0, 0, 0, 0, 1, 0, 0, 0, 1,\n",
       "       1, 0, 0, 0, 1, 1, 0, 0, 1, 1, 0, 0, 0, 0, 0, 1, 0, 0, 0, 1, 1, 1,\n",
       "       1, 0, 0, 1, 1, 0, 0, 0, 1, 0, 0, 1, 0, 1, 1, 0, 0, 0, 0, 0, 1, 0,\n",
       "       1, 1, 1, 0, 1, 0, 0, 0, 1, 0, 0, 0, 1, 0, 0, 0, 1, 0, 0, 0, 0, 0,\n",
       "       0, 1, 1, 1, 1, 0, 0, 1, 0, 1, 1, 0, 1, 0, 0, 0, 0, 1, 0, 0, 0, 1,\n",
       "       0, 0, 0, 0, 0, 0, 0, 0, 0, 1, 0, 0, 0, 0, 0, 0, 0, 0, 1, 0, 0, 1,\n",
       "       0, 0, 1, 0, 0, 1, 1, 1, 1, 0, 0, 1, 0, 0, 1, 0, 0, 0, 0, 0, 0, 1,\n",
       "       1, 0, 1, 1, 0, 0, 1, 0, 1, 0, 1, 0, 0, 0, 0, 0, 1, 0, 1, 0, 1, 0,\n",
       "       0, 0, 1, 1, 1, 1, 0, 0, 1, 0, 1, 0, 0, 0, 0, 1, 0, 0, 1, 0, 1, 0,\n",
       "       1, 0, 1, 0, 1, 1, 0, 1, 0, 0, 0, 1, 0, 0, 0, 0, 0, 0, 1, 1, 1, 1,\n",
       "       0, 0, 0, 0, 1, 0, 1, 1, 1, 0, 0, 0, 0, 0, 0, 0, 1, 0, 0, 0, 1, 1,\n",
       "       0, 0, 0, 0, 0, 0, 0, 0, 1, 1, 0, 1, 0, 0, 0, 0, 0, 1, 1, 1, 0, 0,\n",
       "       0, 0, 0, 0, 0, 1, 0, 1, 0, 0, 1, 0, 0, 0, 0, 0, 0, 0, 1, 1, 0, 1,\n",
       "       0, 1, 0, 0, 0, 1, 1, 1, 0, 0, 0, 0, 0, 0, 0, 0, 1, 0, 1, 0, 0, 0,\n",
       "       1, 0, 0, 1, 0, 0, 0, 0, 0, 0, 0, 0, 0, 1, 0, 1, 0, 1, 0, 1, 1, 0,\n",
       "       0, 0, 0, 0, 1, 0, 0, 1, 0, 1, 1, 0, 1, 0, 0, 0, 1, 0, 0, 1, 0, 0,\n",
       "       1, 1, 0, 0, 0, 0, 0, 0, 1, 1, 0, 1, 0, 0, 0, 0, 0, 1, 1, 0, 0, 1,\n",
       "       0, 1, 0, 0, 1, 0, 1, 0, 0, 0, 0, 0, 1, 0, 1, 1, 0, 0, 1, 0, 0, 0])"
      ]
     },
     "execution_count": 49,
     "metadata": {},
     "output_type": "execute_result"
    }
   ],
   "source": [
    "predicted = rf.predict(df_test[cols])\n",
    "predicted"
   ]
  },
  {
   "cell_type": "code",
   "execution_count": 50,
   "id": "8a4c3a27",
   "metadata": {},
   "outputs": [
    {
     "data": {
      "text/html": [
       "<div>\n",
       "<style scoped>\n",
       "    .dataframe tbody tr th:only-of-type {\n",
       "        vertical-align: middle;\n",
       "    }\n",
       "\n",
       "    .dataframe tbody tr th {\n",
       "        vertical-align: top;\n",
       "    }\n",
       "\n",
       "    .dataframe thead th {\n",
       "        text-align: right;\n",
       "    }\n",
       "</style>\n",
       "<table border=\"1\" class=\"dataframe\">\n",
       "  <thead>\n",
       "    <tr style=\"text-align: right;\">\n",
       "      <th></th>\n",
       "      <th>Survived</th>\n",
       "    </tr>\n",
       "  </thead>\n",
       "  <tbody>\n",
       "    <tr>\n",
       "      <th>0</th>\n",
       "      <td>0</td>\n",
       "    </tr>\n",
       "    <tr>\n",
       "      <th>1</th>\n",
       "      <td>1</td>\n",
       "    </tr>\n",
       "    <tr>\n",
       "      <th>2</th>\n",
       "      <td>0</td>\n",
       "    </tr>\n",
       "    <tr>\n",
       "      <th>3</th>\n",
       "      <td>0</td>\n",
       "    </tr>\n",
       "    <tr>\n",
       "      <th>4</th>\n",
       "      <td>1</td>\n",
       "    </tr>\n",
       "  </tbody>\n",
       "</table>\n",
       "</div>"
      ],
      "text/plain": [
       "   Survived\n",
       "0         0\n",
       "1         1\n",
       "2         0\n",
       "3         0\n",
       "4         1"
      ]
     },
     "execution_count": 50,
     "metadata": {},
     "output_type": "execute_result"
    }
   ],
   "source": [
    "predictResult = pd.DataFrame(predicted, columns = ['Survived'])\n",
    "predictResult.head()"
   ]
  },
  {
   "cell_type": "code",
   "execution_count": 51,
   "id": "e8c4632a",
   "metadata": {},
   "outputs": [
    {
     "data": {
      "text/html": [
       "<div>\n",
       "<style scoped>\n",
       "    .dataframe tbody tr th:only-of-type {\n",
       "        vertical-align: middle;\n",
       "    }\n",
       "\n",
       "    .dataframe tbody tr th {\n",
       "        vertical-align: top;\n",
       "    }\n",
       "\n",
       "    .dataframe thead th {\n",
       "        text-align: right;\n",
       "    }\n",
       "</style>\n",
       "<table border=\"1\" class=\"dataframe\">\n",
       "  <thead>\n",
       "    <tr style=\"text-align: right;\">\n",
       "      <th></th>\n",
       "      <th>PassengerId</th>\n",
       "      <th>Survived</th>\n",
       "    </tr>\n",
       "  </thead>\n",
       "  <tbody>\n",
       "    <tr>\n",
       "      <th>0</th>\n",
       "      <td>892</td>\n",
       "      <td>0</td>\n",
       "    </tr>\n",
       "    <tr>\n",
       "      <th>1</th>\n",
       "      <td>893</td>\n",
       "      <td>1</td>\n",
       "    </tr>\n",
       "    <tr>\n",
       "      <th>2</th>\n",
       "      <td>894</td>\n",
       "      <td>0</td>\n",
       "    </tr>\n",
       "    <tr>\n",
       "      <th>3</th>\n",
       "      <td>895</td>\n",
       "      <td>0</td>\n",
       "    </tr>\n",
       "    <tr>\n",
       "      <th>4</th>\n",
       "      <td>896</td>\n",
       "      <td>1</td>\n",
       "    </tr>\n",
       "  </tbody>\n",
       "</table>\n",
       "</div>"
      ],
      "text/plain": [
       "   PassengerId  Survived\n",
       "0          892         0\n",
       "1          893         1\n",
       "2          894         0\n",
       "3          895         0\n",
       "4          896         1"
      ]
     },
     "execution_count": 51,
     "metadata": {},
     "output_type": "execute_result"
    }
   ],
   "source": [
    "predictDf = pd.concat([df_test['PassengerId'], predictResult['Survived']], axis=1)\n",
    "predictDf.head()"
   ]
  },
  {
   "cell_type": "code",
   "execution_count": 52,
   "id": "fe24215d",
   "metadata": {},
   "outputs": [],
   "source": [
    "predictDf.to_csv('./submission.csv', sep=',', index = False)"
   ]
  },
  {
   "cell_type": "code",
   "execution_count": 53,
   "id": "b921960d",
   "metadata": {},
   "outputs": [
    {
     "name": "stdout",
     "output_type": "stream",
     "text": [
      "100%|████████████████████████████████████████| 2.77k/2.77k [00:04<00:00, 605B/s]\n",
      "Successfully submitted to Titanic - Machine Learning from Disaster"
     ]
    }
   ],
   "source": [
    "!kaggle competitions submit -c titanic -f submission.csv -m \"Random foreset\""
   ]
  },
  {
   "cell_type": "code",
   "execution_count": 54,
   "id": "f98211b5",
   "metadata": {},
   "outputs": [
    {
     "name": "stdout",
     "output_type": "stream",
     "text": [
      "fileName        date                 description     status    publicScore  privateScore  \r\n",
      "--------------  -------------------  --------------  --------  -----------  ------------  \r\n",
      "submission.csv  2022-06-06 14:12:35  Random foreset  complete  0.79425                    \r\n",
      "submission.csv  2022-06-06 14:10:28  Random foreset  complete  0.79186                    \r\n",
      "submission.csv  2022-06-06 14:10:01  Random foreset  complete  0.77033                    \r\n",
      "submission.csv  2022-06-06 14:08:45  Random foreset  complete  0.79186                    \r\n",
      "submission.csv  2022-06-06 13:50:56  Random foreset  complete  0.77990                    \r\n",
      "submission.csv  2022-06-06 13:48:20  Random foreset  complete  0.79425                    \r\n",
      "submission.csv  2022-06-06 13:43:21  Random foreset  complete  0.77990                    \r\n",
      "submission.csv  2022-06-06 13:38:38  Random foreset  complete  0.77990                    \r\n"
     ]
    }
   ],
   "source": [
    "!kaggle competitions submissions -c titanic"
   ]
  },
  {
   "cell_type": "code",
   "execution_count": null,
   "id": "719e1da6",
   "metadata": {},
   "outputs": [],
   "source": []
  }
 ],
 "metadata": {
  "kernelspec": {
   "display_name": "Python 3 (ipykernel)",
   "language": "python",
   "name": "python3"
  },
  "language_info": {
   "codemirror_mode": {
    "name": "ipython",
    "version": 3
   },
   "file_extension": ".py",
   "mimetype": "text/x-python",
   "name": "python",
   "nbconvert_exporter": "python",
   "pygments_lexer": "ipython3",
   "version": "3.9.12"
  }
 },
 "nbformat": 4,
 "nbformat_minor": 5
}
